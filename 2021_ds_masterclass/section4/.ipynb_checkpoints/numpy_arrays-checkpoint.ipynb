{
 "cells": [
  {
   "cell_type": "code",
   "execution_count": 1,
   "id": "e1528bd2",
   "metadata": {},
   "outputs": [],
   "source": [
    "import numpy as np"
   ]
  },
  {
   "cell_type": "markdown",
   "id": "0cdff6c2",
   "metadata": {},
   "source": [
    "### Convert Python list"
   ]
  },
  {
   "cell_type": "code",
   "execution_count": 2,
   "id": "59efafe9",
   "metadata": {},
   "outputs": [],
   "source": [
    "mylist = [1,2,3]"
   ]
  },
  {
   "cell_type": "code",
   "execution_count": 4,
   "id": "05574b34",
   "metadata": {},
   "outputs": [],
   "source": [
    "myarr = np.array(mylist)"
   ]
  },
  {
   "cell_type": "code",
   "execution_count": 5,
   "id": "84e27c0d",
   "metadata": {},
   "outputs": [
    {
     "data": {
      "text/plain": [
       "numpy.ndarray"
      ]
     },
     "execution_count": 5,
     "metadata": {},
     "output_type": "execute_result"
    }
   ],
   "source": [
    "type(myarr)"
   ]
  },
  {
   "cell_type": "code",
   "execution_count": 6,
   "id": "b46d5cbc",
   "metadata": {},
   "outputs": [],
   "source": [
    "my_matrix = [[1,2,3],[4,5,6],[7,8,9]]"
   ]
  },
  {
   "cell_type": "code",
   "execution_count": 7,
   "id": "7ffc940d",
   "metadata": {},
   "outputs": [
    {
     "data": {
      "text/plain": [
       "array([[1, 2, 3],\n",
       "       [4, 5, 6],\n",
       "       [7, 8, 9]])"
      ]
     },
     "execution_count": 7,
     "metadata": {},
     "output_type": "execute_result"
    }
   ],
   "source": [
    "np.array(my_matrix)"
   ]
  },
  {
   "cell_type": "markdown",
   "id": "7abcaece",
   "metadata": {},
   "source": [
    "### Builtin functions to create numpy objects"
   ]
  },
  {
   "cell_type": "code",
   "execution_count": 8,
   "id": "687e5e7d",
   "metadata": {},
   "outputs": [
    {
     "data": {
      "text/plain": [
       "array([0, 1, 2, 3, 4, 5, 6, 7, 8, 9])"
      ]
     },
     "execution_count": 8,
     "metadata": {},
     "output_type": "execute_result"
    }
   ],
   "source": [
    "np.arange(0,10)"
   ]
  },
  {
   "cell_type": "code",
   "execution_count": 9,
   "id": "bb301627",
   "metadata": {},
   "outputs": [
    {
     "data": {
      "text/plain": [
       "array([0., 0., 0., 0., 0.])"
      ]
     },
     "execution_count": 9,
     "metadata": {},
     "output_type": "execute_result"
    }
   ],
   "source": [
    "np.zeros(5)"
   ]
  },
  {
   "cell_type": "code",
   "execution_count": 10,
   "id": "269b4f33",
   "metadata": {},
   "outputs": [
    {
     "data": {
      "text/plain": [
       "array([[0., 0., 0., 0., 0.],\n",
       "       [0., 0., 0., 0., 0.],\n",
       "       [0., 0., 0., 0., 0.],\n",
       "       [0., 0., 0., 0., 0.],\n",
       "       [0., 0., 0., 0., 0.]])"
      ]
     },
     "execution_count": 10,
     "metadata": {},
     "output_type": "execute_result"
    }
   ],
   "source": [
    "np.zeros((5,5))"
   ]
  },
  {
   "cell_type": "code",
   "execution_count": 11,
   "id": "294b52bb",
   "metadata": {},
   "outputs": [
    {
     "data": {
      "text/plain": [
       "array([[1., 1., 1., 1.],\n",
       "       [1., 1., 1., 1.],\n",
       "       [1., 1., 1., 1.],\n",
       "       [1., 1., 1., 1.]])"
      ]
     },
     "execution_count": 11,
     "metadata": {},
     "output_type": "execute_result"
    }
   ],
   "source": [
    "np.ones((4,4))"
   ]
  },
  {
   "cell_type": "markdown",
   "id": "d6945e7c",
   "metadata": {},
   "source": [
    "### evenly spaced numbers between start and stop"
   ]
  },
  {
   "cell_type": "code",
   "execution_count": 14,
   "id": "7055d5c2",
   "metadata": {},
   "outputs": [
    {
     "data": {
      "text/plain": [
       "array([ 0. ,  2.5,  5. ,  7.5, 10. ])"
      ]
     },
     "execution_count": 14,
     "metadata": {},
     "output_type": "execute_result"
    }
   ],
   "source": [
    "np.linspace(0,10,5)"
   ]
  },
  {
   "cell_type": "markdown",
   "id": "8544bda6",
   "metadata": {},
   "source": [
    "### identity matrix"
   ]
  },
  {
   "cell_type": "code",
   "execution_count": 15,
   "id": "0f1087d0",
   "metadata": {},
   "outputs": [
    {
     "data": {
      "text/plain": [
       "array([[1., 0., 0., 0., 0.],\n",
       "       [0., 1., 0., 0., 0.],\n",
       "       [0., 0., 1., 0., 0.],\n",
       "       [0., 0., 0., 1., 0.],\n",
       "       [0., 0., 0., 0., 1.]])"
      ]
     },
     "execution_count": 15,
     "metadata": {},
     "output_type": "execute_result"
    }
   ],
   "source": [
    "np.eye(5)"
   ]
  },
  {
   "cell_type": "markdown",
   "id": "1a27c5f7",
   "metadata": {},
   "source": [
    "## Random Distributions of Data"
   ]
  },
  {
   "cell_type": "code",
   "execution_count": 16,
   "id": "f1920507",
   "metadata": {},
   "outputs": [
    {
     "data": {
      "text/plain": [
       "array([0.32423965])"
      ]
     },
     "execution_count": 16,
     "metadata": {},
     "output_type": "execute_result"
    }
   ],
   "source": [
    "np.random.rand(1)"
   ]
  },
  {
   "cell_type": "code",
   "execution_count": 19,
   "id": "f06008ca",
   "metadata": {},
   "outputs": [
    {
     "data": {
      "text/plain": [
       "array([[0.51102565, 0.88856872, 0.66542671, 0.95769467, 0.70525632],\n",
       "       [0.13456456, 0.2696343 , 0.54110558, 0.23807423, 0.32100742],\n",
       "       [0.51277105, 0.8033499 , 0.01826106, 0.69732805, 0.78690138],\n",
       "       [0.10491188, 0.48711595, 0.98819779, 0.64749138, 0.16397531]])"
      ]
     },
     "execution_count": 19,
     "metadata": {},
     "output_type": "execute_result"
    }
   ],
   "source": [
    "np.random.rand(4,5)"
   ]
  },
  {
   "cell_type": "markdown",
   "id": "6061acfc",
   "metadata": {},
   "source": [
    "### standard normal distribution\n",
    "https://www.scribbr.com/statistics/standard-normal-distribution/"
   ]
  },
  {
   "cell_type": "code",
   "execution_count": 21,
   "id": "2bf4407a",
   "metadata": {},
   "outputs": [
    {
     "data": {
      "text/plain": [
       "array([[-0.41008408, -0.83595715,  0.15598253],\n",
       "       [ 1.32837642, -1.35105103,  0.52621024]])"
      ]
     },
     "execution_count": 21,
     "metadata": {},
     "output_type": "execute_result"
    }
   ],
   "source": [
    "np.random.randn(2,3)"
   ]
  },
  {
   "cell_type": "code",
   "execution_count": null,
   "id": "b535a2bf",
   "metadata": {},
   "outputs": [],
   "source": []
  }
 ],
 "metadata": {
  "kernelspec": {
   "display_name": "Python 3",
   "language": "python",
   "name": "python3"
  },
  "language_info": {
   "codemirror_mode": {
    "name": "ipython",
    "version": 3
   },
   "file_extension": ".py",
   "mimetype": "text/x-python",
   "name": "python",
   "nbconvert_exporter": "python",
   "pygments_lexer": "ipython3",
   "version": "3.8.8"
  }
 },
 "nbformat": 4,
 "nbformat_minor": 5
}
